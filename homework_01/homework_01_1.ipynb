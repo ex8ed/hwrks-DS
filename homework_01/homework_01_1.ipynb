{
 "cells": [
  {
   "cell_type": "markdown",
   "metadata": {},
   "source": [
    "### Домашняя работа №1.1 (Pandas)\n",
    "В городе SQL произошло убийство! SQL Murder Mystery - это одновременно и самостоятельный урок для изучения концепций и команд SQL, и увлекательная игра для опытных пользователей SQL, в которой нужно раскрыть интригующее преступление.\n",
    "Произошло преступление, и детективу нужна ваша помощь. Детектив дал вам отчет о месте преступления, но вы каким-то образом потеряли его. Вы смутно помните, что преступление было убийством, произошедшим 15 января 2018 года, и что оно произошло в SQL City. Начните с поиска соответствующего отчета о месте преступления в базе данных полицейского управления."
   ]
  },
  {
   "cell_type": "markdown",
   "metadata": {},
   "source": [
    "### Условия\n",
    "Главное условие - решение полностью с использованием Pandas\n",
    "\n",
    "Данные не на русском языке, так что где-то придется пользоваться переводчиком"
   ]
  },
  {
   "cell_type": "markdown",
   "metadata": {},
   "source": [
    "### Критерии оценивания\n",
    "\n",
    "1. Нашел преступника? - 4 балла\n",
    "2. Использование сортировки или срезов по данным (оператор []) во время поиска - 1 балл\n",
    "3. Использование фильтрации таблиц - 2 балла\n",
    "4. Использование мерджей - 3 балла\n"
   ]
  },
  {
   "cell_type": "code",
   "execution_count": 202,
   "metadata": {},
   "outputs": [],
   "source": [
    "import pandas as pd\n",
    "import os\n",
    "\n",
    "PATH_TO_DATA = './data_pandas/'\n"
   ]
  },
  {
   "cell_type": "code",
   "execution_count": 203,
   "metadata": {},
   "outputs": [],
   "source": [
    "crime_scene_report = pd.read_csv(os.path.join(PATH_TO_DATA, 'crime_scene_report.csv'))\n",
    "person = pd.read_csv(os.path.join(PATH_TO_DATA, 'person.csv'))\n",
    "interview = pd.read_csv(os.path.join(PATH_TO_DATA, 'interview.csv'))\n",
    "get_fit_now_member = pd.read_csv(os.path.join(PATH_TO_DATA, 'get_fit_now_member.csv'))\n",
    "drivers_license = pd.read_csv(os.path.join(PATH_TO_DATA, 'drivers_license.csv'))\n",
    "facebook_event_checkin = pd.read_csv(os.path.join(PATH_TO_DATA, 'facebook_event_checkin.csv'))\n",
    "income = pd.read_csv(os.path.join(PATH_TO_DATA, 'income.csv'))\n"
   ]
  },
  {
   "cell_type": "code",
   "execution_count": 204,
   "metadata": {},
   "outputs": [
    {
     "name": "stdout",
     "output_type": "stream",
     "text": [
      "Выписка из дела:\n",
      "Security footage shows that there were 2 witnesses. The first witness lives at the last house on \"Northwestern Dr\". The second witness, named Annabel, lives somewhere on \"Franklin Ave\".\n"
     ]
    }
   ],
   "source": [
    "# Всем встать, суд пошел;\n",
    "\n",
    "crime_scene_report['date'] = pd.to_datetime(crime_scene_report['date'], format='%Y%m%d')\n",
    "\n",
    "# Убийство произошло 15 января 2018 в SQL City:\n",
    "report = crime_scene_report[(crime_scene_report['date'] == '2018-01-15') &\n",
    "                            (crime_scene_report['city'] == 'SQL City') &\n",
    "                            (crime_scene_report['type'] == 'murder')]\n",
    "\n",
    "print(\"Выписка из дела:\", *report['description'], sep='\\n')\n"
   ]
  },
  {
   "cell_type": "code",
   "execution_count": 205,
   "metadata": {},
   "outputs": [
    {
     "name": "stdout",
     "output_type": "stream",
     "text": [
      "Первый свидетель: 14887 Morty Schapiro\n",
      "Второй свидетель: 16371 Annabel Miller\n"
     ]
    }
   ],
   "source": [
    "# Подшиваем к делу свидетелей;\n",
    "# первый (последний дом на Northwestern Dr):\n",
    "\n",
    "witness1 = person[person['address_street_name'] == 'Northwestern Dr'].sort_values(by='address_number', ascending=False).iloc[0]\n",
    "\n",
    "print(\"Первый свидетель:\", *witness1[['id', 'name']])\n",
    "\n",
    "# второй (Анабель с Franklin Ave):\n",
    "witness2 = person[(person['address_street_name'] == 'Franklin Ave') & (person['name'].str.contains('Annabel'))].iloc[0]\n",
    "print(\"Второй свидетель:\", *witness2[['id', 'name']])\n"
   ]
  },
  {
   "cell_type": "code",
   "execution_count": 206,
   "metadata": {},
   "outputs": [
    {
     "name": "stdout",
     "output_type": "stream",
     "text": [
      "Показания Аннабель:\n",
      "I saw the murder happen, and I recognized the killer from my gym when I was working out last week on January the 9th.\n",
      "Показания Морти:\n",
      "I heard a gunshot and then saw a man run out. He had a \"Get Fit Now Gym\" bag. The membership number on the bag started with \"48Z\". Only gold members have those bags. The man got into a car with a plate that included \"H42W\".\n"
     ]
    }
   ],
   "source": [
    "# Андрюха, по коням; возможно криминал: производим допрос\n",
    "\n",
    "annabel_miller_id = person[person['name'] == 'Annabel Miller']['id'].values[0]\n",
    "annabel_miller = interview[interview['person_id'] == annabel_miller_id]['transcript'].values[0]\n",
    "print(\"Показания Аннабель:\", annabel_miller, sep='\\n')\n",
    "\n",
    "# Rick?\n",
    "morty_schapiro_id =  person[person['name'] == 'Morty Schapiro']['id'].values[0]\n",
    "morty_schapiro = interview[interview['person_id'] == morty_schapiro_id]['transcript'].values[0]\n",
    "print(\"Показания Морти:\", morty_schapiro, sep='\\n')\n"
   ]
  },
  {
   "cell_type": "code",
   "execution_count": 207,
   "metadata": {},
   "outputs": [
    {
     "name": "stdout",
     "output_type": "stream",
     "text": [
      "Подозреваемый:\n",
      "          name_x  address_number    address_street_name plate_number\n",
      "0  Jeremy Bowers             530  Washington Pl, Apt 3A       0H42W2\n"
     ]
    }
   ],
   "source": [
    "# По словам свидетелей, ищем качка из фитнес-клуба с gold статусом и номером машины, что содержит подстроку 'H42W'\n",
    "\n",
    "suspects = get_fit_now_member[get_fit_now_member['membership_status'] == 'gold']\n",
    "suspects = suspects[suspects['id'].str.contains('48Z')]\n",
    "suspects = pd.merge(suspects, person, left_on='person_id', right_on='id')\n",
    "suspects = pd.merge(suspects, drivers_license, left_on='license_id', right_on='id')\n",
    "suspects = suspects[suspects['plate_number'].str.contains('H42W')]\n",
    "print(\"Подозреваемый:\", suspects[['name_x', 'address_number', 'address_street_name', 'plate_number']], sep='\\n')\n"
   ]
  },
  {
   "cell_type": "code",
   "execution_count": 208,
   "metadata": {},
   "outputs": [
    {
     "name": "stdout",
     "output_type": "stream",
     "text": [
      "Показания подозреваемого:\n",
      "I was hired by a woman with a lot of money. I don't know her name but I know she's around 5'5\" (65\") or 5'7\" (67\"). She has red hair and she drives a Tesla Model S. I know that she attended the SQL Symphony Concert 3 times in December 2017.\n",
      "\n"
     ]
    }
   ],
   "source": [
    "# майор Доигралес запрашивает показания:\n",
    "\n",
    "killer = interview[interview['person_id'] == person[person['name'] == 'Jeremy Bowers']['id'].values[0]]\n",
    "print(\"Показания подозреваемого:\", *killer['transcript'], sep='\\n')\n"
   ]
  },
  {
   "cell_type": "code",
   "execution_count": 209,
   "metadata": {},
   "outputs": [
    {
     "name": "stdout",
     "output_type": "stream",
     "text": [
      "ID ценителей искусства:\n",
      "24556\n",
      "99716\n"
     ]
    }
   ],
   "source": [
    "# единственный подозреваемый, на которого показывают все улики, сдал наемницу с потрохами: \n",
    "# Ищем состоятельную рыжеволосую водительницу Tesla, посетившую SQL Symphony три раза и\n",
    "#  стукнувшуюся столько же раз головй о проем в театре (рост 165-170 см).\n",
    "\n",
    "# Начнем с оркестра; все, кто посещал его три раза в декабре 2017:\n",
    "\n",
    "facebook_event_checkin['date'] = pd.to_datetime(facebook_event_checkin['date'], format='%Y%m%d')\n",
    "\n",
    "concert_name = 'SQL Symphony Concert'\n",
    "concert_date_start = '2017-12-01'\n",
    "concert_date_end = '2017-12-31'\n",
    "\n",
    "concert_clients = facebook_event_checkin[(facebook_event_checkin['event_name'] == concert_name) & \n",
    "                                          (facebook_event_checkin['date'] >= concert_date_start) & \n",
    "                                          (facebook_event_checkin['date'] <= concert_date_end)]\n",
    "concert_clients_count = concert_clients['person_id'].value_counts()\n",
    "frequent_clients_ids = concert_clients_count[concert_clients_count >= 3].index\n",
    "\n",
    "print(\"ID ценителей искусства:\", *frequent_clients_ids, sep='\\n')\n"
   ]
  },
  {
   "cell_type": "code",
   "execution_count": 210,
   "metadata": {},
   "outputs": [
    {
     "name": "stdout",
     "output_type": "stream",
     "text": [
      "Информация о машинах, поле и цвете волос:\n",
      "               name car_model plate_number  height hair_color\n",
      "0  Miranda Priestly   Model S       500123      66        red\n"
     ]
    }
   ],
   "source": [
    "# дальше майор Доигралес решил проверить имущество и данные в персональных данных:\n",
    "\n",
    "frequent_clients_ids = [24556, 99716]\n",
    "\n",
    "person_info = person[person['id'].isin(frequent_clients_ids)]\n",
    "license_ids = person_info['license_id']\n",
    "\n",
    "clients_drivers = drivers_license[drivers_license['id'].isin(license_ids)]\n",
    "clients_info = pd.merge(clients_drivers, person_info, left_on='id', right_on='license_id')\n",
    "\n",
    "print(\"Информация о машинах, поле и цвете волос:\")\n",
    "print(clients_info[['name', 'car_model', 'plate_number', 'height', 'hair_color']])\n"
   ]
  },
  {
   "cell_type": "code",
   "execution_count": 211,
   "metadata": {},
   "outputs": [
    {
     "name": "stdout",
     "output_type": "stream",
     "text": [
      "Годовой доход Миранды Престли:\n",
      "310000\n",
      "Показания:\n",
      "[]\n"
     ]
    }
   ],
   "source": [
    "# отлично, почти полное совпадение. Прежде чем объявлять мадам в розыск, проверим счета и показания:\n",
    "\n",
    "miranda_ssn = person[person['name'] == 'Miranda Priestly']['ssn'].values[0]\n",
    "miranda_income = income[income['ssn'] == miranda_ssn]['annual_income'].values[0]\n",
    "\n",
    "miranda_id = person[person['name'] == 'Miranda Priestly']['id'].values[0]\n",
    "miranda_interview = interview[interview['person_id'] == miranda_id]['transcript'].values\n",
    "\n",
    "print(\"Годовой доход Миранды Престли:\", miranda_income, sep='\\n')\n",
    "print(\"Показания:\", miranda_interview, sep='\\n')\n"
   ]
  },
  {
   "cell_type": "code",
   "execution_count": 212,
   "metadata": {},
   "outputs": [
    {
     "name": "stdout",
     "output_type": "stream",
     "text": [
      "Убийца: Jeremy Bowers\n",
      "Заказчица:  Miranda Priestly\n"
     ]
    }
   ],
   "source": [
    "# заводим уголовку и по домам:\n",
    "print(\"Убийца:\", *suspects['name_x'].values)\n",
    "print(\"Заказчица: \", *clients_info['name'].values)\n"
   ]
  }
 ],
 "metadata": {
  "kernelspec": {
   "display_name": ".venv",
   "language": "python",
   "name": "python3"
  },
  "language_info": {
   "codemirror_mode": {
    "name": "ipython",
    "version": 3
   },
   "file_extension": ".py",
   "mimetype": "text/x-python",
   "name": "python",
   "nbconvert_exporter": "python",
   "pygments_lexer": "ipython3",
   "version": "3.13.0"
  },
  "widgets": {
   "application/vnd.jupyter.widget-state+json": {
    "state": {},
    "version_major": 2,
    "version_minor": 0
   }
  }
 },
 "nbformat": 4,
 "nbformat_minor": 4
}
